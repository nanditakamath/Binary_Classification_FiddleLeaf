{
 "cells": [
  {
   "cell_type": "code",
   "execution_count": 1,
   "id": "163180d6",
   "metadata": {
    "_cell_guid": "b1076dfc-b9ad-4769-8c92-a6c4dae69d19",
    "_uuid": "8f2839f25d086af736a60e9eeb907d3b93b6e0e5",
    "execution": {
     "iopub.execute_input": "2023-05-06T04:13:25.996772Z",
     "iopub.status.busy": "2023-05-06T04:13:25.995778Z",
     "iopub.status.idle": "2023-05-06T04:13:26.015700Z",
     "shell.execute_reply": "2023-05-06T04:13:26.014323Z"
    },
    "papermill": {
     "duration": 0.034159,
     "end_time": "2023-05-06T04:13:26.018595",
     "exception": false,
     "start_time": "2023-05-06T04:13:25.984436",
     "status": "completed"
    },
    "tags": []
   },
   "outputs": [
    {
     "name": "stdout",
     "output_type": "stream",
     "text": [
      "/kaggle/input/fiddlehead-competition/sample.csv\n",
      "/kaggle/input/fiddlehead-competition/train.csv\n",
      "/kaggle/input/fiddlehead-competition/test.csv\n"
     ]
    }
   ],
   "source": [
    "# This Python 3 environment comes with many helpful analytics libraries installed\n",
    "# It is defined by the kaggle/python Docker image: https://github.com/kaggle/docker-python\n",
    "# For example, here's several helpful packages to load\n",
    "\n",
    "import numpy as np # linear algebra\n",
    "import pandas as pd # data processing, CSV file I/O (e.g. pd.read_csv)\n",
    "\n",
    "# Input data files are available in the read-only \"../input/\" directory\n",
    "# For example, running this (by clicking run or pressing Shift+Enter) will list all files under the input directory\n",
    "\n",
    "import os\n",
    "for dirname, _, filenames in os.walk('/kaggle/input'):\n",
    "    for filename in filenames:\n",
    "        print(os.path.join(dirname, filename))\n",
    "\n",
    "# You can write up to 20GB to the current directory (/kaggle/working/) that gets preserved as output when you create a version using \"Save & Run All\" \n",
    "# You can also write temporary files to /kaggle/temp/, but they won't be saved outside of the current session"
   ]
  },
  {
   "cell_type": "code",
   "execution_count": 2,
   "id": "94280399",
   "metadata": {
    "execution": {
     "iopub.execute_input": "2023-05-06T04:13:26.036506Z",
     "iopub.status.busy": "2023-05-06T04:13:26.036059Z",
     "iopub.status.idle": "2023-05-06T04:13:27.290974Z",
     "shell.execute_reply": "2023-05-06T04:13:27.289738Z"
    },
    "papermill": {
     "duration": 1.267599,
     "end_time": "2023-05-06T04:13:27.294256",
     "exception": false,
     "start_time": "2023-05-06T04:13:26.026657",
     "status": "completed"
    },
    "tags": []
   },
   "outputs": [],
   "source": [
    "#Load basic libraries\n",
    "\n",
    "import pandas as pd\n",
    "import matplotlib.pyplot as plt\n",
    "import seaborn as sns\n",
    "import numpy as np"
   ]
  },
  {
   "cell_type": "code",
   "execution_count": 3,
   "id": "3f2055cf",
   "metadata": {
    "execution": {
     "iopub.execute_input": "2023-05-06T04:13:27.312923Z",
     "iopub.status.busy": "2023-05-06T04:13:27.312509Z",
     "iopub.status.idle": "2023-05-06T04:13:28.267661Z",
     "shell.execute_reply": "2023-05-06T04:13:28.266143Z"
    },
    "papermill": {
     "duration": 0.968394,
     "end_time": "2023-05-06T04:13:28.270857",
     "exception": false,
     "start_time": "2023-05-06T04:13:27.302463",
     "status": "completed"
    },
    "tags": []
   },
   "outputs": [],
   "source": [
    "import sklearn\n",
    "import xgboost\n",
    "import imblearn\n",
    "import numpy as np\n",
    "import pandas as pd\n",
    "import scipy\n",
    "import pickle\n",
    "import seaborn as sns\n",
    "import matplotlib.pyplot as plt\n",
    "from sklearn.impute import SimpleImputer\n",
    "from sklearn.compose import ColumnTransformer\n",
    "from sklearn.preprocessing import OrdinalEncoder\n",
    "from sklearn.preprocessing import StandardScaler\n",
    "from sklearn.preprocessing import OneHotEncoder\n",
    "from sklearn.model_selection import train_test_split\n",
    "from sklearn.model_selection import RepeatedStratifiedKFold\n",
    "from sklearn.model_selection import GridSearchCV\n",
    "from sklearn.ensemble import BaggingClassifier\n",
    "from sklearn.ensemble import RandomForestClassifier\n",
    "from sklearn.linear_model import LogisticRegression\n",
    "from sklearn.svm import SVC\n",
    "from sklearn.neighbors import KNeighborsClassifier\n",
    "from sklearn.ensemble import GradientBoostingClassifier"
   ]
  },
  {
   "cell_type": "code",
   "execution_count": 4,
   "id": "7e5e3820",
   "metadata": {
    "execution": {
     "iopub.execute_input": "2023-05-06T04:13:28.288872Z",
     "iopub.status.busy": "2023-05-06T04:13:28.288471Z",
     "iopub.status.idle": "2023-05-06T04:13:28.355941Z",
     "shell.execute_reply": "2023-05-06T04:13:28.351690Z"
    },
    "papermill": {
     "duration": 0.080564,
     "end_time": "2023-05-06T04:13:28.359343",
     "exception": false,
     "start_time": "2023-05-06T04:13:28.278779",
     "status": "completed"
    },
    "tags": []
   },
   "outputs": [
    {
     "data": {
      "text/html": [
       "<div>\n",
       "<style scoped>\n",
       "    .dataframe tbody tr th:only-of-type {\n",
       "        vertical-align: middle;\n",
       "    }\n",
       "\n",
       "    .dataframe tbody tr th {\n",
       "        vertical-align: top;\n",
       "    }\n",
       "\n",
       "    .dataframe thead th {\n",
       "        text-align: right;\n",
       "    }\n",
       "</style>\n",
       "<table border=\"1\" class=\"dataframe\">\n",
       "  <thead>\n",
       "    <tr style=\"text-align: right;\">\n",
       "      <th></th>\n",
       "      <th>category</th>\n",
       "      <th>id</th>\n",
       "    </tr>\n",
       "  </thead>\n",
       "  <tbody>\n",
       "    <tr>\n",
       "      <th>0</th>\n",
       "      <td>1</td>\n",
       "      <td>0</td>\n",
       "    </tr>\n",
       "    <tr>\n",
       "      <th>1</th>\n",
       "      <td>0</td>\n",
       "      <td>1</td>\n",
       "    </tr>\n",
       "    <tr>\n",
       "      <th>2</th>\n",
       "      <td>0</td>\n",
       "      <td>2</td>\n",
       "    </tr>\n",
       "    <tr>\n",
       "      <th>3</th>\n",
       "      <td>1</td>\n",
       "      <td>3</td>\n",
       "    </tr>\n",
       "    <tr>\n",
       "      <th>4</th>\n",
       "      <td>0</td>\n",
       "      <td>4</td>\n",
       "    </tr>\n",
       "  </tbody>\n",
       "</table>\n",
       "</div>"
      ],
      "text/plain": [
       "   category  id\n",
       "0         1   0\n",
       "1         0   1\n",
       "2         0   2\n",
       "3         1   3\n",
       "4         0   4"
      ]
     },
     "execution_count": 4,
     "metadata": {},
     "output_type": "execute_result"
    }
   ],
   "source": [
    "#analyse submission sample dataset\n",
    "\n",
    "sample=pd.read_csv('/kaggle/input/fiddlehead-competition/sample.csv')\n",
    "sample.head()"
   ]
  },
  {
   "cell_type": "code",
   "execution_count": 5,
   "id": "9c86462f",
   "metadata": {
    "execution": {
     "iopub.execute_input": "2023-05-06T04:13:28.385594Z",
     "iopub.status.busy": "2023-05-06T04:13:28.385030Z",
     "iopub.status.idle": "2023-05-06T04:13:28.711155Z",
     "shell.execute_reply": "2023-05-06T04:13:28.709351Z"
    },
    "papermill": {
     "duration": 0.343655,
     "end_time": "2023-05-06T04:13:28.715326",
     "exception": false,
     "start_time": "2023-05-06T04:13:28.371671",
     "status": "completed"
    },
    "tags": []
   },
   "outputs": [],
   "source": [
    "#load the training and testing datasets\n",
    "\n",
    "train_data=pd.read_csv('/kaggle/input/fiddlehead-competition/train.csv')\n",
    "test_data=pd.read_csv('/kaggle/input/fiddlehead-competition/test.csv')"
   ]
  },
  {
   "cell_type": "code",
   "execution_count": 6,
   "id": "4643fc25",
   "metadata": {
    "execution": {
     "iopub.execute_input": "2023-05-06T04:13:28.736205Z",
     "iopub.status.busy": "2023-05-06T04:13:28.735316Z",
     "iopub.status.idle": "2023-05-06T04:13:28.764722Z",
     "shell.execute_reply": "2023-05-06T04:13:28.763507Z"
    },
    "papermill": {
     "duration": 0.04422,
     "end_time": "2023-05-06T04:13:28.768287",
     "exception": false,
     "start_time": "2023-05-06T04:13:28.724067",
     "status": "completed"
    },
    "tags": []
   },
   "outputs": [
    {
     "data": {
      "text/html": [
       "<div>\n",
       "<style scoped>\n",
       "    .dataframe tbody tr th:only-of-type {\n",
       "        vertical-align: middle;\n",
       "    }\n",
       "\n",
       "    .dataframe tbody tr th {\n",
       "        vertical-align: top;\n",
       "    }\n",
       "\n",
       "    .dataframe thead th {\n",
       "        text-align: right;\n",
       "    }\n",
       "</style>\n",
       "<table border=\"1\" class=\"dataframe\">\n",
       "  <thead>\n",
       "    <tr style=\"text-align: right;\">\n",
       "      <th></th>\n",
       "      <th>category</th>\n",
       "      <th>head shape</th>\n",
       "      <th>head surface</th>\n",
       "      <th>head shade</th>\n",
       "      <th>marks</th>\n",
       "      <th>fragrance</th>\n",
       "      <th>blade_exist</th>\n",
       "      <th>blade_gap</th>\n",
       "      <th>blade_size</th>\n",
       "      <th>blade texture</th>\n",
       "      <th>...</th>\n",
       "      <th>shroud color</th>\n",
       "      <th>annulus number</th>\n",
       "      <th>annulus type</th>\n",
       "      <th>powder color</th>\n",
       "      <th>tot_popul</th>\n",
       "      <th>environment</th>\n",
       "      <th>no_days</th>\n",
       "      <th>head_circumference</th>\n",
       "      <th>stem width</th>\n",
       "      <th>root width</th>\n",
       "    </tr>\n",
       "  </thead>\n",
       "  <tbody>\n",
       "    <tr>\n",
       "      <th>0</th>\n",
       "      <td>1</td>\n",
       "      <td>5</td>\n",
       "      <td>2</td>\n",
       "      <td>4</td>\n",
       "      <td>1</td>\n",
       "      <td>5</td>\n",
       "      <td>1</td>\n",
       "      <td>0</td>\n",
       "      <td>1</td>\n",
       "      <td>4</td>\n",
       "      <td>...</td>\n",
       "      <td>2</td>\n",
       "      <td>1</td>\n",
       "      <td>4</td>\n",
       "      <td>1</td>\n",
       "      <td>3</td>\n",
       "      <td>0</td>\n",
       "      <td>29.0</td>\n",
       "      <td>4.516383</td>\n",
       "      <td>4.591127</td>\n",
       "      <td>5.110601</td>\n",
       "    </tr>\n",
       "    <tr>\n",
       "      <th>1</th>\n",
       "      <td>0</td>\n",
       "      <td>2</td>\n",
       "      <td>0</td>\n",
       "      <td>4</td>\n",
       "      <td>1</td>\n",
       "      <td>0</td>\n",
       "      <td>1</td>\n",
       "      <td>1</td>\n",
       "      <td>1</td>\n",
       "      <td>5</td>\n",
       "      <td>...</td>\n",
       "      <td>2</td>\n",
       "      <td>1</td>\n",
       "      <td>2</td>\n",
       "      <td>1</td>\n",
       "      <td>4</td>\n",
       "      <td>0</td>\n",
       "      <td>22.0</td>\n",
       "      <td>5.922174</td>\n",
       "      <td>4.979566</td>\n",
       "      <td>5.341753</td>\n",
       "    </tr>\n",
       "    <tr>\n",
       "      <th>2</th>\n",
       "      <td>0</td>\n",
       "      <td>5</td>\n",
       "      <td>2</td>\n",
       "      <td>9</td>\n",
       "      <td>0</td>\n",
       "      <td>5</td>\n",
       "      <td>1</td>\n",
       "      <td>0</td>\n",
       "      <td>0</td>\n",
       "      <td>7</td>\n",
       "      <td>...</td>\n",
       "      <td>2</td>\n",
       "      <td>1</td>\n",
       "      <td>2</td>\n",
       "      <td>7</td>\n",
       "      <td>5</td>\n",
       "      <td>2</td>\n",
       "      <td>23.0</td>\n",
       "      <td>7.089155</td>\n",
       "      <td>3.623844</td>\n",
       "      <td>7.488063</td>\n",
       "    </tr>\n",
       "    <tr>\n",
       "      <th>3</th>\n",
       "      <td>1</td>\n",
       "      <td>5</td>\n",
       "      <td>3</td>\n",
       "      <td>0</td>\n",
       "      <td>0</td>\n",
       "      <td>5</td>\n",
       "      <td>1</td>\n",
       "      <td>0</td>\n",
       "      <td>1</td>\n",
       "      <td>10</td>\n",
       "      <td>...</td>\n",
       "      <td>2</td>\n",
       "      <td>2</td>\n",
       "      <td>4</td>\n",
       "      <td>7</td>\n",
       "      <td>4</td>\n",
       "      <td>0</td>\n",
       "      <td>47.0</td>\n",
       "      <td>11.718708</td>\n",
       "      <td>7.452025</td>\n",
       "      <td>4.325183</td>\n",
       "    </tr>\n",
       "    <tr>\n",
       "      <th>4</th>\n",
       "      <td>1</td>\n",
       "      <td>5</td>\n",
       "      <td>0</td>\n",
       "      <td>3</td>\n",
       "      <td>0</td>\n",
       "      <td>6</td>\n",
       "      <td>1</td>\n",
       "      <td>1</td>\n",
       "      <td>0</td>\n",
       "      <td>0</td>\n",
       "      <td>...</td>\n",
       "      <td>2</td>\n",
       "      <td>1</td>\n",
       "      <td>2</td>\n",
       "      <td>2</td>\n",
       "      <td>5</td>\n",
       "      <td>2</td>\n",
       "      <td>9.0</td>\n",
       "      <td>8.795063</td>\n",
       "      <td>8.792288</td>\n",
       "      <td>4.309965</td>\n",
       "    </tr>\n",
       "  </tbody>\n",
       "</table>\n",
       "<p>5 rows × 27 columns</p>\n",
       "</div>"
      ],
      "text/plain": [
       "   category  head shape  head surface  head shade  marks  fragrance  \\\n",
       "0         1           5             2           4      1          5   \n",
       "1         0           2             0           4      1          0   \n",
       "2         0           5             2           9      0          5   \n",
       "3         1           5             3           0      0          5   \n",
       "4         1           5             0           3      0          6   \n",
       "\n",
       "   blade_exist  blade_gap  blade_size  blade texture  ...  shroud color  \\\n",
       "0            1          0           1              4  ...             2   \n",
       "1            1          1           1              5  ...             2   \n",
       "2            1          0           0              7  ...             2   \n",
       "3            1          0           1             10  ...             2   \n",
       "4            1          1           0              0  ...             2   \n",
       "\n",
       "   annulus number  annulus type  powder color  tot_popul  environment  \\\n",
       "0               1             4             1          3            0   \n",
       "1               1             2             1          4            0   \n",
       "2               1             2             7          5            2   \n",
       "3               2             4             7          4            0   \n",
       "4               1             2             2          5            2   \n",
       "\n",
       "   no_days  head_circumference  stem width  root width  \n",
       "0     29.0            4.516383    4.591127    5.110601  \n",
       "1     22.0            5.922174    4.979566    5.341753  \n",
       "2     23.0            7.089155    3.623844    7.488063  \n",
       "3     47.0           11.718708    7.452025    4.325183  \n",
       "4      9.0            8.795063    8.792288    4.309965  \n",
       "\n",
       "[5 rows x 27 columns]"
      ]
     },
     "execution_count": 6,
     "metadata": {},
     "output_type": "execute_result"
    }
   ],
   "source": [
    "train_data.head()"
   ]
  },
  {
   "cell_type": "code",
   "execution_count": 7,
   "id": "ef944ac8",
   "metadata": {
    "execution": {
     "iopub.execute_input": "2023-05-06T04:13:28.791980Z",
     "iopub.status.busy": "2023-05-06T04:13:28.791258Z",
     "iopub.status.idle": "2023-05-06T04:13:28.803293Z",
     "shell.execute_reply": "2023-05-06T04:13:28.802333Z"
    },
    "papermill": {
     "duration": 0.024959,
     "end_time": "2023-05-06T04:13:28.806134",
     "exception": false,
     "start_time": "2023-05-06T04:13:28.781175",
     "status": "completed"
    },
    "tags": []
   },
   "outputs": [
    {
     "data": {
      "text/plain": [
       "category              0\n",
       "head shape            0\n",
       "head surface          0\n",
       "head shade            0\n",
       "marks                 0\n",
       "fragrance             0\n",
       "blade_exist           0\n",
       "blade_gap             0\n",
       "blade_size            0\n",
       "blade texture         0\n",
       "stipe shape           0\n",
       "base_stipe            0\n",
       "stem surface above    0\n",
       "stem surface below    0\n",
       "stem color above      0\n",
       "stem color below      0\n",
       "shroud type           0\n",
       "shroud color          0\n",
       "annulus number        0\n",
       "annulus type          0\n",
       "powder color          0\n",
       "tot_popul             0\n",
       "environment           0\n",
       "no_days               0\n",
       "head_circumference    0\n",
       "stem width            0\n",
       "root width            0\n",
       "dtype: int64"
      ]
     },
     "execution_count": 7,
     "metadata": {},
     "output_type": "execute_result"
    }
   ],
   "source": [
    "train_data.isna().sum()"
   ]
  },
  {
   "cell_type": "code",
   "execution_count": 8,
   "id": "d293b007",
   "metadata": {
    "execution": {
     "iopub.execute_input": "2023-05-06T04:13:28.831602Z",
     "iopub.status.busy": "2023-05-06T04:13:28.830843Z",
     "iopub.status.idle": "2023-05-06T04:13:28.846563Z",
     "shell.execute_reply": "2023-05-06T04:13:28.845188Z"
    },
    "papermill": {
     "duration": 0.029473,
     "end_time": "2023-05-06T04:13:28.849622",
     "exception": false,
     "start_time": "2023-05-06T04:13:28.820149",
     "status": "completed"
    },
    "tags": []
   },
   "outputs": [
    {
     "data": {
      "text/plain": [
       "0    24529\n",
       "1    23143\n",
       "Name: category, dtype: int64"
      ]
     },
     "execution_count": 8,
     "metadata": {},
     "output_type": "execute_result"
    }
   ],
   "source": [
    "#data distribution of target\n",
    "\n",
    "train_data['category'].value_counts()"
   ]
  },
  {
   "cell_type": "code",
   "execution_count": 9,
   "id": "ce5854dc",
   "metadata": {
    "execution": {
     "iopub.execute_input": "2023-05-06T04:13:28.877571Z",
     "iopub.status.busy": "2023-05-06T04:13:28.877116Z",
     "iopub.status.idle": "2023-05-06T04:13:28.937343Z",
     "shell.execute_reply": "2023-05-06T04:13:28.935938Z"
    },
    "papermill": {
     "duration": 0.079484,
     "end_time": "2023-05-06T04:13:28.942038",
     "exception": false,
     "start_time": "2023-05-06T04:13:28.862554",
     "status": "completed"
    },
    "tags": []
   },
   "outputs": [
    {
     "name": "stdout",
     "output_type": "stream",
     "text": [
      "0    24529\n",
      "1    23143\n",
      "Name: category, dtype: int64\n",
      "--------------\n",
      "5    21295\n",
      "2    18684\n",
      "3     4742\n",
      "0     2755\n",
      "4      168\n",
      "1       28\n",
      "Name: head shape, dtype: int64\n",
      "--------------\n",
      "3    19026\n",
      "2    14880\n",
      "0    13755\n",
      "1       11\n",
      "Name: head surface, dtype: int64\n",
      "--------------\n",
      "4    13419\n",
      "3    10619\n",
      "2     8748\n",
      "9     6288\n",
      "8     6199\n",
      "0     1163\n",
      "5      816\n",
      "1      248\n",
      "6      118\n",
      "7       54\n",
      "Name: head shade, dtype: int64\n",
      "--------------\n",
      "0    27809\n",
      "1    19863\n",
      "Name: marks, dtype: int64\n",
      "--------------\n",
      "5    20092\n",
      "2    13095\n",
      "8     3542\n",
      "7     3315\n",
      "0     2483\n",
      "3     2233\n",
      "6     1605\n",
      "1     1128\n",
      "4      179\n",
      "Name: fragrance, dtype: int64\n",
      "--------------\n",
      "1    46475\n",
      "0     1197\n",
      "Name: blade_exist, dtype: int64\n",
      "--------------\n",
      "0    40222\n",
      "1     7450\n",
      "Name: blade_gap, dtype: int64\n",
      "--------------\n",
      "0    33052\n",
      "1    14620\n",
      "Name: blade_size, dtype: int64\n",
      "--------------\n",
      "0     10064\n",
      "7      8903\n",
      "10     7022\n",
      "5      6393\n",
      "2      4279\n",
      "3      4203\n",
      "9      2732\n",
      "4      2417\n",
      "1       568\n",
      "11      540\n",
      "6       377\n",
      "8       174\n",
      "Name: blade texture, dtype: int64\n",
      "--------------\n",
      "1    27084\n",
      "0    20588\n",
      "Name: stipe shape, dtype: int64\n",
      "--------------\n",
      "1    22762\n",
      "0    14143\n",
      "3     6437\n",
      "2     3154\n",
      "4     1176\n",
      "Name: base_stipe, dtype: int64\n",
      "--------------\n",
      "2    30399\n",
      "1    13888\n",
      "0     3239\n",
      "3      146\n",
      "Name: stem surface above, dtype: int64\n",
      "--------------\n",
      "2    28594\n",
      "1    13761\n",
      "0     3642\n",
      "3     1675\n",
      "Name: stem surface below, dtype: int64\n",
      "--------------\n",
      "7    26381\n",
      "6    10903\n",
      "3     3303\n",
      "4     2659\n",
      "0     2568\n",
      "5     1018\n",
      "2      560\n",
      "1      238\n",
      "8       42\n",
      "Name: stem color above, dtype: int64\n",
      "--------------\n",
      "7    25999\n",
      "6    10994\n",
      "3     3262\n",
      "4     2929\n",
      "0     2569\n",
      "5     1021\n",
      "2      579\n",
      "1      218\n",
      "8      101\n",
      "Name: stem color below, dtype: int64\n",
      "--------------\n",
      "0    47672\n",
      "Name: shroud type, dtype: int64\n",
      "--------------\n",
      "2    46430\n",
      "1      633\n",
      "0      581\n",
      "3       28\n",
      "Name: shroud color, dtype: int64\n",
      "--------------\n",
      "1    44126\n",
      "2     3369\n",
      "0      177\n",
      "Name: annulus number, dtype: int64\n",
      "--------------\n",
      "4    23381\n",
      "0    16142\n",
      "2     7707\n",
      "1      274\n",
      "3      168\n",
      "Name: annulus type, dtype: int64\n",
      "--------------\n",
      "7    14215\n",
      "3    11625\n",
      "2    10853\n",
      "1     9548\n",
      "5      427\n",
      "6      264\n",
      "8      254\n",
      "4      251\n",
      "0      235\n",
      "Name: powder color, dtype: int64\n",
      "--------------\n",
      "4    23711\n",
      "5    10249\n",
      "3     7321\n",
      "2     2419\n",
      "1     2099\n",
      "0     1873\n",
      "Name: tot_popul, dtype: int64\n",
      "--------------\n",
      "0    18329\n",
      "1    12438\n",
      "4     6997\n",
      "2     5052\n",
      "5     2224\n",
      "3     1525\n",
      "6     1107\n",
      "Name: environment, dtype: int64\n",
      "--------------\n",
      "36.0    1019\n",
      "41.0    1010\n",
      "39.0     997\n",
      "28.0     987\n",
      "7.0      985\n",
      "34.0     983\n",
      "44.0     982\n",
      "27.0     981\n",
      "11.0     978\n",
      "14.0     976\n",
      "43.0     976\n",
      "6.0      976\n",
      "16.0     972\n",
      "37.0     968\n",
      "20.0     968\n",
      "22.0     967\n",
      "13.0     967\n",
      "46.0     966\n",
      "17.0     964\n",
      "35.0     964\n",
      "12.0     963\n",
      "26.0     962\n",
      "23.0     962\n",
      "1.0      959\n",
      "31.0     957\n",
      "5.0      956\n",
      "21.0     954\n",
      "42.0     953\n",
      "10.0     952\n",
      "49.0     950\n",
      "38.0     949\n",
      "8.0      944\n",
      "4.0      944\n",
      "25.0     941\n",
      "19.0     938\n",
      "50.0     937\n",
      "32.0     934\n",
      "24.0     932\n",
      "18.0     930\n",
      "2.0      929\n",
      "47.0     922\n",
      "33.0     920\n",
      "30.0     917\n",
      "48.0     917\n",
      "45.0     915\n",
      "15.0     913\n",
      "9.0      910\n",
      "29.0     910\n",
      "40.0     909\n",
      "3.0      907\n",
      "Name: no_days, dtype: int64\n",
      "--------------\n",
      "4.516383     1\n",
      "7.701462     1\n",
      "12.014469    1\n",
      "9.577780     1\n",
      "6.574100     1\n",
      "            ..\n",
      "7.974166     1\n",
      "11.251078    1\n",
      "11.722903    1\n",
      "7.797387     1\n",
      "5.740735     1\n",
      "Name: head_circumference, Length: 47672, dtype: int64\n",
      "--------------\n",
      "4.591127    1\n",
      "9.426826    1\n",
      "6.211841    1\n",
      "8.714219    1\n",
      "8.202153    1\n",
      "           ..\n",
      "3.336173    1\n",
      "4.798062    1\n",
      "9.050461    1\n",
      "9.679819    1\n",
      "3.520792    1\n",
      "Name: stem width, Length: 47672, dtype: int64\n",
      "--------------\n",
      "5.110601    1\n",
      "5.145360    1\n",
      "5.775487    1\n",
      "4.691958    1\n",
      "4.723321    1\n",
      "           ..\n",
      "5.144006    1\n",
      "4.759776    1\n",
      "4.604002    1\n",
      "3.051219    1\n",
      "4.488291    1\n",
      "Name: root width, Length: 47672, dtype: int64\n",
      "--------------\n"
     ]
    }
   ],
   "source": [
    "for c in train_data.columns:\n",
    "  print(train_data[c].value_counts())\n",
    "  print('--------------')"
   ]
  },
  {
   "cell_type": "code",
   "execution_count": 10,
   "id": "80e1d904",
   "metadata": {
    "execution": {
     "iopub.execute_input": "2023-05-06T04:13:28.961599Z",
     "iopub.status.busy": "2023-05-06T04:13:28.961165Z",
     "iopub.status.idle": "2023-05-06T04:13:28.982122Z",
     "shell.execute_reply": "2023-05-06T04:13:28.980855Z"
    },
    "papermill": {
     "duration": 0.034047,
     "end_time": "2023-05-06T04:13:28.985021",
     "exception": false,
     "start_time": "2023-05-06T04:13:28.950974",
     "status": "completed"
    },
    "tags": []
   },
   "outputs": [],
   "source": [
    "from sklearn.model_selection import train_test_split\n",
    "train_set,test_set=train_test_split(train_data,test_size=0.2,random_state=42)"
   ]
  },
  {
   "cell_type": "code",
   "execution_count": 11,
   "id": "1b591bed",
   "metadata": {
    "execution": {
     "iopub.execute_input": "2023-05-06T04:13:29.005078Z",
     "iopub.status.busy": "2023-05-06T04:13:29.004665Z",
     "iopub.status.idle": "2023-05-06T04:13:29.018564Z",
     "shell.execute_reply": "2023-05-06T04:13:29.017324Z"
    },
    "papermill": {
     "duration": 0.027118,
     "end_time": "2023-05-06T04:13:29.021185",
     "exception": false,
     "start_time": "2023-05-06T04:13:28.994067",
     "status": "completed"
    },
    "tags": []
   },
   "outputs": [],
   "source": [
    "X_train=train_set.drop('category',axis=1)\n",
    "y_train=train_set['category'].copy()\n",
    "\n",
    "X_test=test_set.drop('category',axis=1)\n",
    "y_test=test_set['category'].copy()"
   ]
  },
  {
   "cell_type": "code",
   "execution_count": 12,
   "id": "5412a195",
   "metadata": {
    "execution": {
     "iopub.execute_input": "2023-05-06T04:13:29.041298Z",
     "iopub.status.busy": "2023-05-06T04:13:29.040788Z",
     "iopub.status.idle": "2023-05-06T04:13:29.084238Z",
     "shell.execute_reply": "2023-05-06T04:13:29.083221Z"
    },
    "papermill": {
     "duration": 0.056609,
     "end_time": "2023-05-06T04:13:29.087085",
     "exception": false,
     "start_time": "2023-05-06T04:13:29.030476",
     "status": "completed"
    },
    "tags": []
   },
   "outputs": [
    {
     "data": {
      "text/plain": [
       "array([[0.6       , 0.66666667, 0.        , ..., 0.10309744, 0.59721278,\n",
       "        0.09753442],\n",
       "       [0.4       , 0.        , 0.44444444, ..., 0.05257417, 0.45628265,\n",
       "        0.87692087],\n",
       "       [1.        , 0.66666667, 1.        , ..., 0.02965401, 0.79900586,\n",
       "        0.5417838 ],\n",
       "       ...,\n",
       "       [1.        , 1.        , 0.88888889, ..., 0.17040302, 0.63654769,\n",
       "        0.07145691],\n",
       "       [0.4       , 0.        , 0.22222222, ..., 0.49929366, 0.27889783,\n",
       "        0.44322464],\n",
       "       [1.        , 0.66666667, 1.        , ..., 0.82049331, 0.9559465 ,\n",
       "        0.54838694]])"
      ]
     },
     "execution_count": 12,
     "metadata": {},
     "output_type": "execute_result"
    }
   ],
   "source": [
    "from sklearn.preprocessing import MinMaxScaler\n",
    "scaler = MinMaxScaler()\n",
    "scaler.fit_transform(X_train)\n",
    "scaler.fit_transform(X_test)"
   ]
  },
  {
   "cell_type": "code",
   "execution_count": 13,
   "id": "88ca054c",
   "metadata": {
    "execution": {
     "iopub.execute_input": "2023-05-06T04:13:29.112513Z",
     "iopub.status.busy": "2023-05-06T04:13:29.111561Z",
     "iopub.status.idle": "2023-05-06T04:13:40.709594Z",
     "shell.execute_reply": "2023-05-06T04:13:40.707752Z"
    },
    "papermill": {
     "duration": 11.614438,
     "end_time": "2023-05-06T04:13:40.714988",
     "exception": false,
     "start_time": "2023-05-06T04:13:29.100550",
     "status": "completed"
    },
    "tags": []
   },
   "outputs": [
    {
     "name": "stderr",
     "output_type": "stream",
     "text": [
      "/opt/conda/lib/python3.7/site-packages/sklearn/linear_model/_logistic.py:818: ConvergenceWarning: lbfgs failed to converge (status=1):\n",
      "STOP: TOTAL NO. of ITERATIONS REACHED LIMIT.\n",
      "\n",
      "Increase the number of iterations (max_iter) or scale the data as shown in:\n",
      "    https://scikit-learn.org/stable/modules/preprocessing.html\n",
      "Please also refer to the documentation for alternative solver options:\n",
      "    https://scikit-learn.org/stable/modules/linear_model.html#logistic-regression\n",
      "  extra_warning_msg=_LOGISTIC_SOLVER_CONVERGENCE_MSG,\n",
      "/opt/conda/lib/python3.7/site-packages/sklearn/linear_model/_logistic.py:818: ConvergenceWarning: lbfgs failed to converge (status=1):\n",
      "STOP: TOTAL NO. of ITERATIONS REACHED LIMIT.\n",
      "\n",
      "Increase the number of iterations (max_iter) or scale the data as shown in:\n",
      "    https://scikit-learn.org/stable/modules/preprocessing.html\n",
      "Please also refer to the documentation for alternative solver options:\n",
      "    https://scikit-learn.org/stable/modules/linear_model.html#logistic-regression\n",
      "  extra_warning_msg=_LOGISTIC_SOLVER_CONVERGENCE_MSG,\n",
      "/opt/conda/lib/python3.7/site-packages/sklearn/linear_model/_logistic.py:818: ConvergenceWarning: lbfgs failed to converge (status=1):\n",
      "STOP: TOTAL NO. of ITERATIONS REACHED LIMIT.\n",
      "\n",
      "Increase the number of iterations (max_iter) or scale the data as shown in:\n",
      "    https://scikit-learn.org/stable/modules/preprocessing.html\n",
      "Please also refer to the documentation for alternative solver options:\n",
      "    https://scikit-learn.org/stable/modules/linear_model.html#logistic-regression\n",
      "  extra_warning_msg=_LOGISTIC_SOLVER_CONVERGENCE_MSG,\n",
      "/opt/conda/lib/python3.7/site-packages/sklearn/linear_model/_logistic.py:818: ConvergenceWarning: lbfgs failed to converge (status=1):\n",
      "STOP: TOTAL NO. of ITERATIONS REACHED LIMIT.\n",
      "\n",
      "Increase the number of iterations (max_iter) or scale the data as shown in:\n",
      "    https://scikit-learn.org/stable/modules/preprocessing.html\n",
      "Please also refer to the documentation for alternative solver options:\n",
      "    https://scikit-learn.org/stable/modules/linear_model.html#logistic-regression\n",
      "  extra_warning_msg=_LOGISTIC_SOLVER_CONVERGENCE_MSG,\n",
      "/opt/conda/lib/python3.7/site-packages/sklearn/linear_model/_logistic.py:818: ConvergenceWarning: lbfgs failed to converge (status=1):\n",
      "STOP: TOTAL NO. of ITERATIONS REACHED LIMIT.\n",
      "\n",
      "Increase the number of iterations (max_iter) or scale the data as shown in:\n",
      "    https://scikit-learn.org/stable/modules/preprocessing.html\n",
      "Please also refer to the documentation for alternative solver options:\n",
      "    https://scikit-learn.org/stable/modules/linear_model.html#logistic-regression\n",
      "  extra_warning_msg=_LOGISTIC_SOLVER_CONVERGENCE_MSG,\n",
      "/opt/conda/lib/python3.7/site-packages/sklearn/linear_model/_logistic.py:818: ConvergenceWarning: lbfgs failed to converge (status=1):\n",
      "STOP: TOTAL NO. of ITERATIONS REACHED LIMIT.\n",
      "\n",
      "Increase the number of iterations (max_iter) or scale the data as shown in:\n",
      "    https://scikit-learn.org/stable/modules/preprocessing.html\n",
      "Please also refer to the documentation for alternative solver options:\n",
      "    https://scikit-learn.org/stable/modules/linear_model.html#logistic-regression\n",
      "  extra_warning_msg=_LOGISTIC_SOLVER_CONVERGENCE_MSG,\n",
      "/opt/conda/lib/python3.7/site-packages/sklearn/linear_model/_logistic.py:818: ConvergenceWarning: lbfgs failed to converge (status=1):\n",
      "STOP: TOTAL NO. of ITERATIONS REACHED LIMIT.\n",
      "\n",
      "Increase the number of iterations (max_iter) or scale the data as shown in:\n",
      "    https://scikit-learn.org/stable/modules/preprocessing.html\n",
      "Please also refer to the documentation for alternative solver options:\n",
      "    https://scikit-learn.org/stable/modules/linear_model.html#logistic-regression\n",
      "  extra_warning_msg=_LOGISTIC_SOLVER_CONVERGENCE_MSG,\n",
      "/opt/conda/lib/python3.7/site-packages/sklearn/linear_model/_logistic.py:818: ConvergenceWarning: lbfgs failed to converge (status=1):\n",
      "STOP: TOTAL NO. of ITERATIONS REACHED LIMIT.\n",
      "\n",
      "Increase the number of iterations (max_iter) or scale the data as shown in:\n",
      "    https://scikit-learn.org/stable/modules/preprocessing.html\n",
      "Please also refer to the documentation for alternative solver options:\n",
      "    https://scikit-learn.org/stable/modules/linear_model.html#logistic-regression\n",
      "  extra_warning_msg=_LOGISTIC_SOLVER_CONVERGENCE_MSG,\n",
      "/opt/conda/lib/python3.7/site-packages/sklearn/linear_model/_logistic.py:818: ConvergenceWarning: lbfgs failed to converge (status=1):\n",
      "STOP: TOTAL NO. of ITERATIONS REACHED LIMIT.\n",
      "\n",
      "Increase the number of iterations (max_iter) or scale the data as shown in:\n",
      "    https://scikit-learn.org/stable/modules/preprocessing.html\n",
      "Please also refer to the documentation for alternative solver options:\n",
      "    https://scikit-learn.org/stable/modules/linear_model.html#logistic-regression\n",
      "  extra_warning_msg=_LOGISTIC_SOLVER_CONVERGENCE_MSG,\n",
      "/opt/conda/lib/python3.7/site-packages/sklearn/linear_model/_logistic.py:818: ConvergenceWarning: lbfgs failed to converge (status=1):\n",
      "STOP: TOTAL NO. of ITERATIONS REACHED LIMIT.\n",
      "\n",
      "Increase the number of iterations (max_iter) or scale the data as shown in:\n",
      "    https://scikit-learn.org/stable/modules/preprocessing.html\n",
      "Please also refer to the documentation for alternative solver options:\n",
      "    https://scikit-learn.org/stable/modules/linear_model.html#logistic-regression\n",
      "  extra_warning_msg=_LOGISTIC_SOLVER_CONVERGENCE_MSG,\n",
      "/opt/conda/lib/python3.7/site-packages/sklearn/linear_model/_logistic.py:818: ConvergenceWarning: lbfgs failed to converge (status=1):\n",
      "STOP: TOTAL NO. of ITERATIONS REACHED LIMIT.\n",
      "\n",
      "Increase the number of iterations (max_iter) or scale the data as shown in:\n",
      "    https://scikit-learn.org/stable/modules/preprocessing.html\n",
      "Please also refer to the documentation for alternative solver options:\n",
      "    https://scikit-learn.org/stable/modules/linear_model.html#logistic-regression\n",
      "  extra_warning_msg=_LOGISTIC_SOLVER_CONVERGENCE_MSG,\n",
      "/opt/conda/lib/python3.7/site-packages/sklearn/linear_model/_logistic.py:818: ConvergenceWarning: lbfgs failed to converge (status=1):\n",
      "STOP: TOTAL NO. of ITERATIONS REACHED LIMIT.\n",
      "\n",
      "Increase the number of iterations (max_iter) or scale the data as shown in:\n",
      "    https://scikit-learn.org/stable/modules/preprocessing.html\n",
      "Please also refer to the documentation for alternative solver options:\n",
      "    https://scikit-learn.org/stable/modules/linear_model.html#logistic-regression\n",
      "  extra_warning_msg=_LOGISTIC_SOLVER_CONVERGENCE_MSG,\n"
     ]
    },
    {
     "data": {
      "text/plain": [
       "array([False, False, False,  True, False,  True,  True,  True, False,\n",
       "       False, False, False, False, False, False, False, False,  True,\n",
       "       False, False, False, False, False, False, False, False])"
      ]
     },
     "execution_count": 13,
     "metadata": {},
     "output_type": "execute_result"
    }
   ],
   "source": [
    "from sklearn.feature_selection import RFE\n",
    "estimator = LogisticRegression()\n",
    "selector = RFE(estimator, n_features_to_select=5, step=1)\n",
    "selector = selector.fit(X_train, y_train)\n",
    "selector.support_"
   ]
  },
  {
   "cell_type": "code",
   "execution_count": 14,
   "id": "fb72cd66",
   "metadata": {
    "execution": {
     "iopub.execute_input": "2023-05-06T04:13:40.770264Z",
     "iopub.status.busy": "2023-05-06T04:13:40.769271Z",
     "iopub.status.idle": "2023-05-06T04:13:40.785538Z",
     "shell.execute_reply": "2023-05-06T04:13:40.783774Z"
    },
    "papermill": {
     "duration": 0.050331,
     "end_time": "2023-05-06T04:13:40.791841",
     "exception": false,
     "start_time": "2023-05-06T04:13:40.741510",
     "status": "completed"
    },
    "tags": []
   },
   "outputs": [
    {
     "data": {
      "text/plain": [
       "array([18, 14, 21,  1, 12,  1,  1,  1,  9,  5,  6,  4,  3, 13, 11, 22,  2,\n",
       "        1,  7, 15,  8, 10, 19, 17, 20, 16])"
      ]
     },
     "execution_count": 14,
     "metadata": {},
     "output_type": "execute_result"
    }
   ],
   "source": [
    "selector.ranking_\n"
   ]
  },
  {
   "cell_type": "code",
   "execution_count": 15,
   "id": "89dc48cf",
   "metadata": {
    "execution": {
     "iopub.execute_input": "2023-05-06T04:13:40.831378Z",
     "iopub.status.busy": "2023-05-06T04:13:40.830311Z",
     "iopub.status.idle": "2023-05-06T04:13:40.835718Z",
     "shell.execute_reply": "2023-05-06T04:13:40.834407Z"
    },
    "papermill": {
     "duration": 0.019486,
     "end_time": "2023-05-06T04:13:40.838229",
     "exception": false,
     "start_time": "2023-05-06T04:13:40.818743",
     "status": "completed"
    },
    "tags": []
   },
   "outputs": [],
   "source": [
    "# from sklearn.linear_model import LogisticRegression\n",
    "# log_reg = LogisticRegression(random_state=0).fit(X_train, y_train)\n",
    "# print(log_reg.predict(X_test))\n",
    "# log_reg.score(X_test, y_test)"
   ]
  },
  {
   "cell_type": "code",
   "execution_count": 16,
   "id": "09396f28",
   "metadata": {
    "execution": {
     "iopub.execute_input": "2023-05-06T04:13:40.860654Z",
     "iopub.status.busy": "2023-05-06T04:13:40.859939Z",
     "iopub.status.idle": "2023-05-06T04:13:40.865101Z",
     "shell.execute_reply": "2023-05-06T04:13:40.863910Z"
    },
    "papermill": {
     "duration": 0.019364,
     "end_time": "2023-05-06T04:13:40.867637",
     "exception": false,
     "start_time": "2023-05-06T04:13:40.848273",
     "status": "completed"
    },
    "tags": []
   },
   "outputs": [],
   "source": [
    "# from sklearn.naive_bayes import BernoulliNB\n",
    "# bern_nb = BernoulliNB().fit(X_train, y_train)\n",
    "# print(bern_nb.predict(X_test))\n",
    "# bern_nb.score(X_test, y_test)"
   ]
  },
  {
   "cell_type": "code",
   "execution_count": null,
   "id": "0c210c7e",
   "metadata": {
    "papermill": {
     "duration": 0.009783,
     "end_time": "2023-05-06T04:13:40.887618",
     "exception": false,
     "start_time": "2023-05-06T04:13:40.877835",
     "status": "completed"
    },
    "tags": []
   },
   "outputs": [],
   "source": []
  },
  {
   "cell_type": "code",
   "execution_count": 17,
   "id": "f5b9e517",
   "metadata": {
    "execution": {
     "iopub.execute_input": "2023-05-06T04:13:40.910405Z",
     "iopub.status.busy": "2023-05-06T04:13:40.909551Z",
     "iopub.status.idle": "2023-05-06T04:13:40.914398Z",
     "shell.execute_reply": "2023-05-06T04:13:40.912931Z"
    },
    "papermill": {
     "duration": 0.019122,
     "end_time": "2023-05-06T04:13:40.916992",
     "exception": false,
     "start_time": "2023-05-06T04:13:40.897870",
     "status": "completed"
    },
    "tags": []
   },
   "outputs": [],
   "source": [
    "# from sklearn.ensemble import AdaBoostClassifier\n",
    "# ada_boost = AdaBoostClassifier().fit(X_train, y_train)\n",
    "# print(ada_boost.predict(X_test))\n",
    "# print(ada_boost.predict_proba(X_test))\n",
    "# ada_boost.score(X_test, y_test)"
   ]
  },
  {
   "cell_type": "code",
   "execution_count": 18,
   "id": "dbdbc5f6",
   "metadata": {
    "execution": {
     "iopub.execute_input": "2023-05-06T04:13:40.939943Z",
     "iopub.status.busy": "2023-05-06T04:13:40.938561Z",
     "iopub.status.idle": "2023-05-06T04:13:40.944222Z",
     "shell.execute_reply": "2023-05-06T04:13:40.942873Z"
    },
    "papermill": {
     "duration": 0.019743,
     "end_time": "2023-05-06T04:13:40.946795",
     "exception": false,
     "start_time": "2023-05-06T04:13:40.927052",
     "status": "completed"
    },
    "tags": []
   },
   "outputs": [],
   "source": [
    "# from sklearn.ensemble import BaggingClassifier\n",
    "# bagging = AdaBoostClassifier(n_estimators=100, random_state=0).fit(X_train, y_train)\n",
    "# print(bagging.predict(X_test))\n",
    "# print(bagging.predict_proba(X_test))\n",
    "# bagging.score(X_test, y_test)"
   ]
  },
  {
   "cell_type": "code",
   "execution_count": 19,
   "id": "f7dcd81f",
   "metadata": {
    "execution": {
     "iopub.execute_input": "2023-05-06T04:13:40.969237Z",
     "iopub.status.busy": "2023-05-06T04:13:40.968492Z",
     "iopub.status.idle": "2023-05-06T04:13:40.972878Z",
     "shell.execute_reply": "2023-05-06T04:13:40.971762Z"
    },
    "papermill": {
     "duration": 0.01857,
     "end_time": "2023-05-06T04:13:40.975474",
     "exception": false,
     "start_time": "2023-05-06T04:13:40.956904",
     "status": "completed"
    },
    "tags": []
   },
   "outputs": [],
   "source": [
    "# from sklearn.ensemble import ExtraTreesClassifier\n",
    "# extra_tree = ExtraTreesClassifier()\n",
    "# extra_tree.fit(X_train, y_train)\n",
    "# print(extra_tree.predict(X_test))\n",
    "# extra_tree.score(X_test,y_test)"
   ]
  },
  {
   "cell_type": "code",
   "execution_count": 20,
   "id": "8834a7f2",
   "metadata": {
    "execution": {
     "iopub.execute_input": "2023-05-06T04:13:40.997316Z",
     "iopub.status.busy": "2023-05-06T04:13:40.996894Z",
     "iopub.status.idle": "2023-05-06T04:13:41.002017Z",
     "shell.execute_reply": "2023-05-06T04:13:41.000764Z"
    },
    "papermill": {
     "duration": 0.01919,
     "end_time": "2023-05-06T04:13:41.004715",
     "exception": false,
     "start_time": "2023-05-06T04:13:40.985525",
     "status": "completed"
    },
    "tags": []
   },
   "outputs": [],
   "source": [
    "# from sklearn.ensemble import GradientBoostingClassifier\n",
    "# grad_boost = GradientBoostingClassifier()\n",
    "# grad_boost.fit(X_train, y_train)\n",
    "# print(grad_boost.predict(X_test))\n",
    "# grad_boost.score(X_test,y_test)"
   ]
  },
  {
   "cell_type": "code",
   "execution_count": 21,
   "id": "e401fa69",
   "metadata": {
    "execution": {
     "iopub.execute_input": "2023-05-06T04:13:41.027222Z",
     "iopub.status.busy": "2023-05-06T04:13:41.026396Z",
     "iopub.status.idle": "2023-05-06T04:13:41.031478Z",
     "shell.execute_reply": "2023-05-06T04:13:41.030600Z"
    },
    "papermill": {
     "duration": 0.019184,
     "end_time": "2023-05-06T04:13:41.033964",
     "exception": false,
     "start_time": "2023-05-06T04:13:41.014780",
     "status": "completed"
    },
    "tags": []
   },
   "outputs": [],
   "source": [
    "# rand_forest = RandomForestClassifier(random_state=42).fit(X_train, y_train)\n",
    "# print(rand_forest.predict(X_test))\n",
    "# print(rand_forest.predict_proba(X_test))\n",
    "# rand_forest.score(X_test, y_test)"
   ]
  },
  {
   "cell_type": "code",
   "execution_count": 22,
   "id": "3368e94e",
   "metadata": {
    "execution": {
     "iopub.execute_input": "2023-05-06T04:13:41.056926Z",
     "iopub.status.busy": "2023-05-06T04:13:41.056058Z",
     "iopub.status.idle": "2023-05-06T04:13:41.061276Z",
     "shell.execute_reply": "2023-05-06T04:13:41.060423Z"
    },
    "papermill": {
     "duration": 0.01982,
     "end_time": "2023-05-06T04:13:41.063802",
     "exception": false,
     "start_time": "2023-05-06T04:13:41.043982",
     "status": "completed"
    },
    "tags": []
   },
   "outputs": [],
   "source": [
    "# from sklearn.ensemble import StackingClassifier\n",
    "# estimators = [('rf', RandomForestClassifier()),('gbr', GradientBoostingClassifier())]\n",
    "# stack = StackingClassifier(estimators=estimators, final_estimator=BaggingClassifier())\n",
    "# stack.fit(X_train, y_train).score(X_test, y_test)"
   ]
  },
  {
   "cell_type": "code",
   "execution_count": 23,
   "id": "4e40081e",
   "metadata": {
    "execution": {
     "iopub.execute_input": "2023-05-06T04:13:41.086693Z",
     "iopub.status.busy": "2023-05-06T04:13:41.085852Z",
     "iopub.status.idle": "2023-05-06T04:13:41.091346Z",
     "shell.execute_reply": "2023-05-06T04:13:41.090512Z"
    },
    "papermill": {
     "duration": 0.020155,
     "end_time": "2023-05-06T04:13:41.093836",
     "exception": false,
     "start_time": "2023-05-06T04:13:41.073681",
     "status": "completed"
    },
    "tags": []
   },
   "outputs": [],
   "source": [
    "# from sklearn.ensemble import RandomForestClassifier, VotingClassifier\n",
    "# clf1 = LogisticRegression(random_state=42)\n",
    "# clf2 = RandomForestClassifier(random_state=42)\n",
    "# clf3 = GradientBoostingClassifier(random_state=42)\n",
    "# voting=VotingClassifier(estimators=[('lr', clf1), ('rf', clf2), ('gbc', clf3)], voting='hard')\n",
    "# voting = voting.fit(X_train, y_train)\n",
    "# print(voting.predict(X_test))\n",
    "# voting.score(X_test, y_test)"
   ]
  },
  {
   "cell_type": "code",
   "execution_count": 24,
   "id": "f906daf9",
   "metadata": {
    "execution": {
     "iopub.execute_input": "2023-05-06T04:13:41.116569Z",
     "iopub.status.busy": "2023-05-06T04:13:41.115869Z",
     "iopub.status.idle": "2023-05-06T04:14:09.741176Z",
     "shell.execute_reply": "2023-05-06T04:14:09.739788Z"
    },
    "papermill": {
     "duration": 28.639596,
     "end_time": "2023-05-06T04:14:09.743711",
     "exception": false,
     "start_time": "2023-05-06T04:13:41.104115",
     "status": "completed"
    },
    "tags": []
   },
   "outputs": [
    {
     "name": "stdout",
     "output_type": "stream",
     "text": [
      "[0 0 0 ... 0 1 1]\n"
     ]
    },
    {
     "data": {
      "text/plain": [
       "0.5824855794441531"
      ]
     },
     "execution_count": 24,
     "metadata": {},
     "output_type": "execute_result"
    }
   ],
   "source": [
    "from sklearn.ensemble import RandomForestClassifier, VotingClassifier, ExtraTreesClassifier\n",
    "#clf1 = LogisticRegression(random_state=42)\n",
    "clf2 = RandomForestClassifier(random_state=42)\n",
    "clf3 = GradientBoostingClassifier(random_state=42)\n",
    "clf4 = ExtraTreesClassifier(random_state=42)\n",
    "voting=VotingClassifier(estimators=[('rf', clf2), ('gbc', clf3),('extrac', clf4)], voting='hard')\n",
    "voting = voting.fit(X_train, y_train)\n",
    "print(voting.predict(X_test))\n",
    "voting.score(X_test, y_test)"
   ]
  },
  {
   "cell_type": "code",
   "execution_count": 25,
   "id": "26551ec3",
   "metadata": {
    "execution": {
     "iopub.execute_input": "2023-05-06T04:14:09.766418Z",
     "iopub.status.busy": "2023-05-06T04:14:09.765931Z",
     "iopub.status.idle": "2023-05-06T04:14:09.770954Z",
     "shell.execute_reply": "2023-05-06T04:14:09.769778Z"
    },
    "papermill": {
     "duration": 0.018753,
     "end_time": "2023-05-06T04:14:09.773280",
     "exception": false,
     "start_time": "2023-05-06T04:14:09.754527",
     "status": "completed"
    },
    "tags": []
   },
   "outputs": [],
   "source": [
    "# from sklearn.neural_network import MLPClassifier\n",
    "# MLP = MLPClassifier().fit(X_train, y_train)\n",
    "# print(MLP.predict(X_test))\n",
    "# MLP.score(X_test, y_test)"
   ]
  },
  {
   "cell_type": "code",
   "execution_count": 26,
   "id": "82e71563",
   "metadata": {
    "execution": {
     "iopub.execute_input": "2023-05-06T04:14:09.796419Z",
     "iopub.status.busy": "2023-05-06T04:14:09.795963Z",
     "iopub.status.idle": "2023-05-06T04:14:09.801201Z",
     "shell.execute_reply": "2023-05-06T04:14:09.800103Z"
    },
    "papermill": {
     "duration": 0.019894,
     "end_time": "2023-05-06T04:14:09.803622",
     "exception": false,
     "start_time": "2023-05-06T04:14:09.783728",
     "status": "completed"
    },
    "tags": []
   },
   "outputs": [],
   "source": [
    "# rand_forest_revised = RandomForestClassifier()\n",
    "# n_estimators = [100,150,200]\n",
    "# max_features = ['sqrt', 'log2']\n",
    "# max_depth=[2,5,10]\n",
    "# min_samples_split=[2,4,8]\n",
    "# # define grid search\n",
    "# grid = dict(n_estimators=n_estimators,max_features=max_features,max_depth=max_depth,min_samples_split=min_samples_split)\n",
    "# cv = RepeatedStratifiedKFold(n_splits=4, n_repeats=2, random_state=1)\n",
    "# grid_search = GridSearchCV(estimator=rand_forest_revised, param_grid=grid, n_jobs=-1, cv=cv, scoring='accuracy',error_score=0)\n",
    "# grid_result = grid_search.fit(X_train, y_train)\n",
    "# print(\"Best: %f using %s\" % (grid_result.best_score_, grid_result.best_params_))\n",
    "# means = grid_result.cv_results_['mean_test_score']\n",
    "# stds = grid_result.cv_results_['std_test_score']\n",
    "# params = grid_result.cv_results_['params']\n",
    "# for mean, stdev, param in zip(means, stds, params):\n",
    "#  print(\"%f (%f) with: %r\" % (mean, stdev, param))"
   ]
  },
  {
   "cell_type": "code",
   "execution_count": 27,
   "id": "3527addf",
   "metadata": {
    "execution": {
     "iopub.execute_input": "2023-05-06T04:14:09.826211Z",
     "iopub.status.busy": "2023-05-06T04:14:09.825768Z",
     "iopub.status.idle": "2023-05-06T04:14:11.438137Z",
     "shell.execute_reply": "2023-05-06T04:14:11.436940Z"
    },
    "papermill": {
     "duration": 1.626843,
     "end_time": "2023-05-06T04:14:11.440780",
     "exception": false,
     "start_time": "2023-05-06T04:14:09.813937",
     "status": "completed"
    },
    "tags": []
   },
   "outputs": [
    {
     "data": {
      "text/plain": [
       "array([0, 1, 1, ..., 0, 0, 0])"
      ]
     },
     "execution_count": 27,
     "metadata": {},
     "output_type": "execute_result"
    }
   ],
   "source": [
    "y_pred = voting.predict(test_data)\n",
    "y_pred"
   ]
  },
  {
   "cell_type": "code",
   "execution_count": 28,
   "id": "6a0b1f83",
   "metadata": {
    "execution": {
     "iopub.execute_input": "2023-05-06T04:14:11.463608Z",
     "iopub.status.busy": "2023-05-06T04:14:11.463163Z",
     "iopub.status.idle": "2023-05-06T04:14:11.523913Z",
     "shell.execute_reply": "2023-05-06T04:14:11.522695Z"
    },
    "papermill": {
     "duration": 0.075701,
     "end_time": "2023-05-06T04:14:11.526875",
     "exception": false,
     "start_time": "2023-05-06T04:14:11.451174",
     "status": "completed"
    },
    "tags": []
   },
   "outputs": [
    {
     "data": {
      "text/html": [
       "<div>\n",
       "<style scoped>\n",
       "    .dataframe tbody tr th:only-of-type {\n",
       "        vertical-align: middle;\n",
       "    }\n",
       "\n",
       "    .dataframe tbody tr th {\n",
       "        vertical-align: top;\n",
       "    }\n",
       "\n",
       "    .dataframe thead th {\n",
       "        text-align: right;\n",
       "    }\n",
       "</style>\n",
       "<table border=\"1\" class=\"dataframe\">\n",
       "  <thead>\n",
       "    <tr style=\"text-align: right;\">\n",
       "      <th></th>\n",
       "      <th>category</th>\n",
       "      <th>id</th>\n",
       "    </tr>\n",
       "  </thead>\n",
       "  <tbody>\n",
       "    <tr>\n",
       "      <th>0</th>\n",
       "      <td>0</td>\n",
       "      <td>0</td>\n",
       "    </tr>\n",
       "    <tr>\n",
       "      <th>1</th>\n",
       "      <td>1</td>\n",
       "      <td>1</td>\n",
       "    </tr>\n",
       "    <tr>\n",
       "      <th>2</th>\n",
       "      <td>1</td>\n",
       "      <td>2</td>\n",
       "    </tr>\n",
       "    <tr>\n",
       "      <th>3</th>\n",
       "      <td>0</td>\n",
       "      <td>3</td>\n",
       "    </tr>\n",
       "    <tr>\n",
       "      <th>4</th>\n",
       "      <td>1</td>\n",
       "      <td>4</td>\n",
       "    </tr>\n",
       "    <tr>\n",
       "      <th>...</th>\n",
       "      <td>...</td>\n",
       "      <td>...</td>\n",
       "    </tr>\n",
       "    <tr>\n",
       "      <th>20427</th>\n",
       "      <td>0</td>\n",
       "      <td>20427</td>\n",
       "    </tr>\n",
       "    <tr>\n",
       "      <th>20428</th>\n",
       "      <td>0</td>\n",
       "      <td>20428</td>\n",
       "    </tr>\n",
       "    <tr>\n",
       "      <th>20429</th>\n",
       "      <td>0</td>\n",
       "      <td>20429</td>\n",
       "    </tr>\n",
       "    <tr>\n",
       "      <th>20430</th>\n",
       "      <td>0</td>\n",
       "      <td>20430</td>\n",
       "    </tr>\n",
       "    <tr>\n",
       "      <th>20431</th>\n",
       "      <td>0</td>\n",
       "      <td>20431</td>\n",
       "    </tr>\n",
       "  </tbody>\n",
       "</table>\n",
       "<p>20432 rows × 2 columns</p>\n",
       "</div>"
      ],
      "text/plain": [
       "       category     id\n",
       "0             0      0\n",
       "1             1      1\n",
       "2             1      2\n",
       "3             0      3\n",
       "4             1      4\n",
       "...         ...    ...\n",
       "20427         0  20427\n",
       "20428         0  20428\n",
       "20429         0  20429\n",
       "20430         0  20430\n",
       "20431         0  20431\n",
       "\n",
       "[20432 rows x 2 columns]"
      ]
     },
     "execution_count": 28,
     "metadata": {},
     "output_type": "execute_result"
    }
   ],
   "source": [
    "submission=pd.DataFrame(columns=['category','id'])\n",
    "submission['id']=[i for i in range(len(y_pred))]\n",
    "\n",
    "submission['category']=y_pred\n",
    "\n",
    "submission.to_csv('submission.csv',index=False)\n",
    "\n",
    "submission"
   ]
  },
  {
   "cell_type": "code",
   "execution_count": 29,
   "id": "2d805c56",
   "metadata": {
    "execution": {
     "iopub.execute_input": "2023-05-06T04:14:11.550561Z",
     "iopub.status.busy": "2023-05-06T04:14:11.550092Z",
     "iopub.status.idle": "2023-05-06T04:14:11.555634Z",
     "shell.execute_reply": "2023-05-06T04:14:11.554128Z"
    },
    "papermill": {
     "duration": 0.021033,
     "end_time": "2023-05-06T04:14:11.558560",
     "exception": false,
     "start_time": "2023-05-06T04:14:11.537527",
     "status": "completed"
    },
    "tags": []
   },
   "outputs": [],
   "source": [
    "# KNN = KNeighborsClassifier(n_neighbors=2)\n",
    "# KNN.fit(X_train, y_train)\n",
    "# print(KNN.predict(X_test))\n",
    "# print(KNN.predict_proba(X_test))\n",
    "# KNN.score(X_test,y_test)"
   ]
  },
  {
   "cell_type": "code",
   "execution_count": 30,
   "id": "c854c5dc",
   "metadata": {
    "execution": {
     "iopub.execute_input": "2023-05-06T04:14:11.581685Z",
     "iopub.status.busy": "2023-05-06T04:14:11.581241Z",
     "iopub.status.idle": "2023-05-06T04:14:11.585904Z",
     "shell.execute_reply": "2023-05-06T04:14:11.584672Z"
    },
    "papermill": {
     "duration": 0.019593,
     "end_time": "2023-05-06T04:14:11.588679",
     "exception": false,
     "start_time": "2023-05-06T04:14:11.569086",
     "status": "completed"
    },
    "tags": []
   },
   "outputs": [],
   "source": [
    "# from sklearn.svm import SVC\n",
    "# SVC = SVC()\n",
    "# SVC.fit(X_train, y_train)\n",
    "# print(SVC.predict(X_test))\n",
    "# SVC.score(X_test,y_test)"
   ]
  }
 ],
 "metadata": {
  "kernelspec": {
   "display_name": "Python 3",
   "language": "python",
   "name": "python3"
  },
  "language_info": {
   "codemirror_mode": {
    "name": "ipython",
    "version": 3
   },
   "file_extension": ".py",
   "mimetype": "text/x-python",
   "name": "python",
   "nbconvert_exporter": "python",
   "pygments_lexer": "ipython3",
   "version": "3.7.12"
  },
  "papermill": {
   "default_parameters": {},
   "duration": 58.446528,
   "end_time": "2023-05-06T04:14:12.423748",
   "environment_variables": {},
   "exception": null,
   "input_path": "__notebook__.ipynb",
   "output_path": "__notebook__.ipynb",
   "parameters": {},
   "start_time": "2023-05-06T04:13:13.977220",
   "version": "2.4.0"
  }
 },
 "nbformat": 4,
 "nbformat_minor": 5
}
